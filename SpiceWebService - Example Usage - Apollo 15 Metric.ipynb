{
 "cells": [
  {
   "cell_type": "code",
   "execution_count": 6,
   "metadata": {
    "collapsed": true,
    "deletable": true,
    "editable": true
   },
   "outputs": [],
   "source": [
    "import json\n",
    "\n",
    "import pvl\n",
    "import requests"
   ]
  },
  {
   "cell_type": "markdown",
   "metadata": {
    "deletable": true,
    "editable": true
   },
   "source": [
    "## Create the necessary input data\n",
    "\n",
    "To create an ISD we require the following:\n",
    "\n",
    "- target_name, e.g. Mercury\n",
    "- capture_date (PDS data product dates appear to be ISO 8601 compliant)\n",
    "- instrument, e.g. mdis-nac\n",
    "- focal_plane_temperature (optionally included for temperature dependent focal lengths)\n",
    "- spacecraft_id, e.g. messenger\n",
    "- spacecraft_clock_count, from the label\n",
    "- exposure_duration, from the label\n",
    "- lighttime_correction, to tell spice what to use\n",
    "- min_elevation (make optional?)\n",
    "- max_elevation (make optional?)\n",
    "\n",
    "For the last two, it might be easier/better to take the intital center point from the PDS label and hit a low res. DEM to find these automatically for the user."
   ]
  },
  {
   "cell_type": "code",
   "execution_count": 2,
   "metadata": {
    "collapsed": true,
    "deletable": true,
    "editable": true
   },
   "outputs": [],
   "source": [
    "label = pvl.load('/data/messenger_sample/EN0211587012M.IMG')\n",
    "data = {'target_name': label['TARGET_NAME'],\n",
    "        'capture_date': label['START_TIME'].isoformat(),\n",
    "        'instrument': label['INSTRUMENT_NAME'], \n",
    "        'focal_plane_temperature': label['FOCAL_PLANE_TEMPERATURE'].value,\n",
    "        'spacecraft_id' : label['INSTRUMENT_HOST_NAME'],\n",
    "        'spacecraft_clock_count': label['SPACECRAFT_CLOCK_START_COUNT'],\n",
    "        'exposure_duration': label['EXPOSURE_DURATION'].value,\n",
    "        'lighttime_correction':'LT+S', \n",
    "        'min_elevation': -100,\n",
    "        'max_elevation': 100\n",
    "        }\n",
    "import json\n",
    "data = json.dumps(data)"
   ]
  },
  {
   "cell_type": "markdown",
   "metadata": {
    "deletable": true,
    "editable": true
   },
   "source": [
    "## Standard API landing page"
   ]
  },
  {
   "cell_type": "code",
   "execution_count": 3,
   "metadata": {
    "collapsed": false,
    "deletable": true,
    "editable": true
   },
   "outputs": [
    {
     "data": {
      "text/plain": [
       "{'apis': {'1.0': 'api/1.0'}, 'status': 'success'}"
      ]
     },
     "execution_count": 3,
     "metadata": {},
     "output_type": "execute_result"
    }
   ],
   "source": [
    "r = requests.get('http://localhost:5000')\n",
    "r.json()"
   ]
  },
  {
   "cell_type": "markdown",
   "metadata": {
    "deletable": true,
    "editable": true
   },
   "source": [
    "## Pushing the API into a namespace and versioning is good practice"
   ]
  },
  {
   "cell_type": "code",
   "execution_count": 4,
   "metadata": {
    "collapsed": false,
    "deletable": true,
    "editable": true
   },
   "outputs": [
    {
     "data": {
      "text/plain": [
       "{'data': {'available_missions': {'mercury': {'messenger': '/api/1.0/mercury/messenger'}}},\n",
       " 'success': True}"
      ]
     },
     "execution_count": 4,
     "metadata": {},
     "output_type": "execute_result"
    }
   ],
   "source": [
    "r = requests.get('http://localhost:5000/api/1.0')\n",
    "r.json()"
   ]
  },
  {
   "cell_type": "markdown",
   "metadata": {
    "deletable": true,
    "editable": true
   },
   "source": [
    "## Example listing of the kernels"
   ]
  },
  {
   "cell_type": "code",
   "execution_count": 5,
   "metadata": {
    "collapsed": false,
    "deletable": true,
    "editable": true,
    "scrolled": true
   },
   "outputs": [
    {
     "data": {
      "text/plain": [
       "{'data': {'description': 'All available meta kernels for a given body and mission in sorted order.  The first meta kernel in the list will be loaded unless a different metakernel is specified.',\n",
       "  'kernels': {'2004': ['/data/spice/mess-e_v_h-spice-6-v1.0/messsp_1000/extras/mk/msgr_2004_v13.tm',\n",
       "    '/data/spice/mess-e_v_h-spice-6-v1.0/messsp_1000/extras/mk/msgr_2004_v12.tm',\n",
       "    '/data/spice/mess-e_v_h-spice-6-v1.0/messsp_1000/extras/mk/msgr_2004_v11.tm',\n",
       "    '/data/spice/mess-e_v_h-spice-6-v1.0/messsp_1000/extras/mk/msgr_2004_v10.tm',\n",
       "    '/data/spice/mess-e_v_h-spice-6-v1.0/messsp_1000/extras/mk/msgr_2004_v09.tm',\n",
       "    '/data/spice/mess-e_v_h-spice-6-v1.0/messsp_1000/extras/mk/msgr_2004_v08.tm',\n",
       "    '/data/spice/mess-e_v_h-spice-6-v1.0/messsp_1000/extras/mk/msgr_2004_v07.tm',\n",
       "    '/data/spice/mess-e_v_h-spice-6-v1.0/messsp_1000/extras/mk/msgr_2004_v06.tm',\n",
       "    '/data/spice/mess-e_v_h-spice-6-v1.0/messsp_1000/extras/mk/msgr_2004_v05.tm',\n",
       "    '/data/spice/mess-e_v_h-spice-6-v1.0/messsp_1000/extras/mk/msgr_2004_v04.tm',\n",
       "    '/data/spice/mess-e_v_h-spice-6-v1.0/messsp_1000/extras/mk/msgr_2004_v03.tm',\n",
       "    '/data/spice/mess-e_v_h-spice-6-v1.0/messsp_1000/extras/mk/msgr_2004_v02.tm',\n",
       "    '/data/spice/mess-e_v_h-spice-6-v1.0/messsp_1000/extras/mk/msgr_2004_v01.tm'],\n",
       "   '2005': ['/data/spice/mess-e_v_h-spice-6-v1.0/messsp_1000/extras/mk/msgr_2005_v13.tm',\n",
       "    '/data/spice/mess-e_v_h-spice-6-v1.0/messsp_1000/extras/mk/msgr_2005_v12.tm',\n",
       "    '/data/spice/mess-e_v_h-spice-6-v1.0/messsp_1000/extras/mk/msgr_2005_v11.tm',\n",
       "    '/data/spice/mess-e_v_h-spice-6-v1.0/messsp_1000/extras/mk/msgr_2005_v10.tm',\n",
       "    '/data/spice/mess-e_v_h-spice-6-v1.0/messsp_1000/extras/mk/msgr_2005_v09.tm',\n",
       "    '/data/spice/mess-e_v_h-spice-6-v1.0/messsp_1000/extras/mk/msgr_2005_v08.tm',\n",
       "    '/data/spice/mess-e_v_h-spice-6-v1.0/messsp_1000/extras/mk/msgr_2005_v07.tm',\n",
       "    '/data/spice/mess-e_v_h-spice-6-v1.0/messsp_1000/extras/mk/msgr_2005_v06.tm',\n",
       "    '/data/spice/mess-e_v_h-spice-6-v1.0/messsp_1000/extras/mk/msgr_2005_v05.tm',\n",
       "    '/data/spice/mess-e_v_h-spice-6-v1.0/messsp_1000/extras/mk/msgr_2005_v04.tm',\n",
       "    '/data/spice/mess-e_v_h-spice-6-v1.0/messsp_1000/extras/mk/msgr_2005_v03.tm',\n",
       "    '/data/spice/mess-e_v_h-spice-6-v1.0/messsp_1000/extras/mk/msgr_2005_v02.tm',\n",
       "    '/data/spice/mess-e_v_h-spice-6-v1.0/messsp_1000/extras/mk/msgr_2005_v01.tm'],\n",
       "   '2006': ['/data/spice/mess-e_v_h-spice-6-v1.0/messsp_1000/extras/mk/msgr_2006_v13.tm',\n",
       "    '/data/spice/mess-e_v_h-spice-6-v1.0/messsp_1000/extras/mk/msgr_2006_v12.tm',\n",
       "    '/data/spice/mess-e_v_h-spice-6-v1.0/messsp_1000/extras/mk/msgr_2006_v11.tm',\n",
       "    '/data/spice/mess-e_v_h-spice-6-v1.0/messsp_1000/extras/mk/msgr_2006_v10.tm',\n",
       "    '/data/spice/mess-e_v_h-spice-6-v1.0/messsp_1000/extras/mk/msgr_2006_v09.tm',\n",
       "    '/data/spice/mess-e_v_h-spice-6-v1.0/messsp_1000/extras/mk/msgr_2006_v08.tm',\n",
       "    '/data/spice/mess-e_v_h-spice-6-v1.0/messsp_1000/extras/mk/msgr_2006_v07.tm',\n",
       "    '/data/spice/mess-e_v_h-spice-6-v1.0/messsp_1000/extras/mk/msgr_2006_v06.tm',\n",
       "    '/data/spice/mess-e_v_h-spice-6-v1.0/messsp_1000/extras/mk/msgr_2006_v05.tm',\n",
       "    '/data/spice/mess-e_v_h-spice-6-v1.0/messsp_1000/extras/mk/msgr_2006_v04.tm',\n",
       "    '/data/spice/mess-e_v_h-spice-6-v1.0/messsp_1000/extras/mk/msgr_2006_v03.tm',\n",
       "    '/data/spice/mess-e_v_h-spice-6-v1.0/messsp_1000/extras/mk/msgr_2006_v02.tm',\n",
       "    '/data/spice/mess-e_v_h-spice-6-v1.0/messsp_1000/extras/mk/msgr_2006_v01.tm'],\n",
       "   '2007': ['/data/spice/mess-e_v_h-spice-6-v1.0/messsp_1000/extras/mk/msgr_2007_v13.tm',\n",
       "    '/data/spice/mess-e_v_h-spice-6-v1.0/messsp_1000/extras/mk/msgr_2007_v12.tm',\n",
       "    '/data/spice/mess-e_v_h-spice-6-v1.0/messsp_1000/extras/mk/msgr_2007_v11.tm',\n",
       "    '/data/spice/mess-e_v_h-spice-6-v1.0/messsp_1000/extras/mk/msgr_2007_v10.tm',\n",
       "    '/data/spice/mess-e_v_h-spice-6-v1.0/messsp_1000/extras/mk/msgr_2007_v09.tm',\n",
       "    '/data/spice/mess-e_v_h-spice-6-v1.0/messsp_1000/extras/mk/msgr_2007_v08.tm',\n",
       "    '/data/spice/mess-e_v_h-spice-6-v1.0/messsp_1000/extras/mk/msgr_2007_v07.tm',\n",
       "    '/data/spice/mess-e_v_h-spice-6-v1.0/messsp_1000/extras/mk/msgr_2007_v06.tm',\n",
       "    '/data/spice/mess-e_v_h-spice-6-v1.0/messsp_1000/extras/mk/msgr_2007_v05.tm',\n",
       "    '/data/spice/mess-e_v_h-spice-6-v1.0/messsp_1000/extras/mk/msgr_2007_v04.tm',\n",
       "    '/data/spice/mess-e_v_h-spice-6-v1.0/messsp_1000/extras/mk/msgr_2007_v03.tm',\n",
       "    '/data/spice/mess-e_v_h-spice-6-v1.0/messsp_1000/extras/mk/msgr_2007_v02.tm',\n",
       "    '/data/spice/mess-e_v_h-spice-6-v1.0/messsp_1000/extras/mk/msgr_2007_v01.tm'],\n",
       "   '2008': ['/data/spice/mess-e_v_h-spice-6-v1.0/messsp_1000/extras/mk/msgr_2008_v12.tm',\n",
       "    '/data/spice/mess-e_v_h-spice-6-v1.0/messsp_1000/extras/mk/msgr_2008_v11.tm',\n",
       "    '/data/spice/mess-e_v_h-spice-6-v1.0/messsp_1000/extras/mk/msgr_2008_v10.tm',\n",
       "    '/data/spice/mess-e_v_h-spice-6-v1.0/messsp_1000/extras/mk/msgr_2008_v09.tm',\n",
       "    '/data/spice/mess-e_v_h-spice-6-v1.0/messsp_1000/extras/mk/msgr_2008_v08.tm',\n",
       "    '/data/spice/mess-e_v_h-spice-6-v1.0/messsp_1000/extras/mk/msgr_2008_v07.tm',\n",
       "    '/data/spice/mess-e_v_h-spice-6-v1.0/messsp_1000/extras/mk/msgr_2008_v06.tm',\n",
       "    '/data/spice/mess-e_v_h-spice-6-v1.0/messsp_1000/extras/mk/msgr_2008_v05.tm',\n",
       "    '/data/spice/mess-e_v_h-spice-6-v1.0/messsp_1000/extras/mk/msgr_2008_v04.tm',\n",
       "    '/data/spice/mess-e_v_h-spice-6-v1.0/messsp_1000/extras/mk/msgr_2008_v03.tm',\n",
       "    '/data/spice/mess-e_v_h-spice-6-v1.0/messsp_1000/extras/mk/msgr_2008_v02.tm',\n",
       "    '/data/spice/mess-e_v_h-spice-6-v1.0/messsp_1000/extras/mk/msgr_2008_v01.tm'],\n",
       "   '2009': ['/data/spice/mess-e_v_h-spice-6-v1.0/messsp_1000/extras/mk/msgr_2009_v10.tm',\n",
       "    '/data/spice/mess-e_v_h-spice-6-v1.0/messsp_1000/extras/mk/msgr_2009_v09.tm',\n",
       "    '/data/spice/mess-e_v_h-spice-6-v1.0/messsp_1000/extras/mk/msgr_2009_v08.tm',\n",
       "    '/data/spice/mess-e_v_h-spice-6-v1.0/messsp_1000/extras/mk/msgr_2009_v07.tm',\n",
       "    '/data/spice/mess-e_v_h-spice-6-v1.0/messsp_1000/extras/mk/msgr_2009_v06.tm',\n",
       "    '/data/spice/mess-e_v_h-spice-6-v1.0/messsp_1000/extras/mk/msgr_2009_v05.tm',\n",
       "    '/data/spice/mess-e_v_h-spice-6-v1.0/messsp_1000/extras/mk/msgr_2009_v04.tm',\n",
       "    '/data/spice/mess-e_v_h-spice-6-v1.0/messsp_1000/extras/mk/msgr_2009_v03.tm',\n",
       "    '/data/spice/mess-e_v_h-spice-6-v1.0/messsp_1000/extras/mk/msgr_2009_v02.tm',\n",
       "    '/data/spice/mess-e_v_h-spice-6-v1.0/messsp_1000/extras/mk/msgr_2009_v01.tm'],\n",
       "   '2010': ['/data/spice/mess-e_v_h-spice-6-v1.0/messsp_1000/extras/mk/msgr_2010_v09.tm',\n",
       "    '/data/spice/mess-e_v_h-spice-6-v1.0/messsp_1000/extras/mk/msgr_2010_v08.tm',\n",
       "    '/data/spice/mess-e_v_h-spice-6-v1.0/messsp_1000/extras/mk/msgr_2010_v07.tm',\n",
       "    '/data/spice/mess-e_v_h-spice-6-v1.0/messsp_1000/extras/mk/msgr_2010_v06.tm',\n",
       "    '/data/spice/mess-e_v_h-spice-6-v1.0/messsp_1000/extras/mk/msgr_2010_v05.tm',\n",
       "    '/data/spice/mess-e_v_h-spice-6-v1.0/messsp_1000/extras/mk/msgr_2010_v04.tm',\n",
       "    '/data/spice/mess-e_v_h-spice-6-v1.0/messsp_1000/extras/mk/msgr_2010_v03.tm',\n",
       "    '/data/spice/mess-e_v_h-spice-6-v1.0/messsp_1000/extras/mk/msgr_2010_v02.tm',\n",
       "    '/data/spice/mess-e_v_h-spice-6-v1.0/messsp_1000/extras/mk/msgr_2010_v01.tm'],\n",
       "   '2011': ['/data/spice/mess-e_v_h-spice-6-v1.0/messsp_1000/extras/mk/msgr_2011_v10.tm',\n",
       "    '/data/spice/mess-e_v_h-spice-6-v1.0/messsp_1000/extras/mk/msgr_2011_v09.tm',\n",
       "    '/data/spice/mess-e_v_h-spice-6-v1.0/messsp_1000/extras/mk/msgr_2011_v08.tm',\n",
       "    '/data/spice/mess-e_v_h-spice-6-v1.0/messsp_1000/extras/mk/msgr_2011_v07.tm',\n",
       "    '/data/spice/mess-e_v_h-spice-6-v1.0/messsp_1000/extras/mk/msgr_2011_v06.tm',\n",
       "    '/data/spice/mess-e_v_h-spice-6-v1.0/messsp_1000/extras/mk/msgr_2011_v05.tm',\n",
       "    '/data/spice/mess-e_v_h-spice-6-v1.0/messsp_1000/extras/mk/msgr_2011_v04.tm',\n",
       "    '/data/spice/mess-e_v_h-spice-6-v1.0/messsp_1000/extras/mk/msgr_2011_v03.tm',\n",
       "    '/data/spice/mess-e_v_h-spice-6-v1.0/messsp_1000/extras/mk/msgr_2011_v02.tm',\n",
       "    '/data/spice/mess-e_v_h-spice-6-v1.0/messsp_1000/extras/mk/msgr_2011_v01.tm'],\n",
       "   '2012': ['/data/spice/mess-e_v_h-spice-6-v1.0/messsp_1000/extras/mk/msgr_2012_v08.tm',\n",
       "    '/data/spice/mess-e_v_h-spice-6-v1.0/messsp_1000/extras/mk/msgr_2012_v07.tm',\n",
       "    '/data/spice/mess-e_v_h-spice-6-v1.0/messsp_1000/extras/mk/msgr_2012_v06.tm',\n",
       "    '/data/spice/mess-e_v_h-spice-6-v1.0/messsp_1000/extras/mk/msgr_2012_v05.tm',\n",
       "    '/data/spice/mess-e_v_h-spice-6-v1.0/messsp_1000/extras/mk/msgr_2012_v04.tm',\n",
       "    '/data/spice/mess-e_v_h-spice-6-v1.0/messsp_1000/extras/mk/msgr_2012_v03.tm',\n",
       "    '/data/spice/mess-e_v_h-spice-6-v1.0/messsp_1000/extras/mk/msgr_2012_v02.tm',\n",
       "    '/data/spice/mess-e_v_h-spice-6-v1.0/messsp_1000/extras/mk/msgr_2012_v01.tm'],\n",
       "   '2013': ['/data/spice/mess-e_v_h-spice-6-v1.0/messsp_1000/extras/mk/msgr_2013_v06.tm',\n",
       "    '/data/spice/mess-e_v_h-spice-6-v1.0/messsp_1000/extras/mk/msgr_2013_v05.tm',\n",
       "    '/data/spice/mess-e_v_h-spice-6-v1.0/messsp_1000/extras/mk/msgr_2013_v04.tm',\n",
       "    '/data/spice/mess-e_v_h-spice-6-v1.0/messsp_1000/extras/mk/msgr_2013_v03.tm',\n",
       "    '/data/spice/mess-e_v_h-spice-6-v1.0/messsp_1000/extras/mk/msgr_2013_v02.tm',\n",
       "    '/data/spice/mess-e_v_h-spice-6-v1.0/messsp_1000/extras/mk/msgr_2013_v01.tm'],\n",
       "   '2014': ['/data/spice/mess-e_v_h-spice-6-v1.0/messsp_1000/extras/mk/msgr_2014_v04.tm',\n",
       "    '/data/spice/mess-e_v_h-spice-6-v1.0/messsp_1000/extras/mk/msgr_2014_v03.tm',\n",
       "    '/data/spice/mess-e_v_h-spice-6-v1.0/messsp_1000/extras/mk/msgr_2014_v02.tm',\n",
       "    '/data/spice/mess-e_v_h-spice-6-v1.0/messsp_1000/extras/mk/msgr_2014_v01.tm'],\n",
       "   '2015': ['/data/spice/mess-e_v_h-spice-6-v1.0/messsp_1000/extras/mk/msgr_2015_v02.tm',\n",
       "    '/data/spice/mess-e_v_h-spice-6-v1.0/messsp_1000/extras/mk/msgr_2015_v01.tm'],\n",
       "   'cklist': ['/data/spice/mess-e_v_h-spice-6-v1.0/messsp_1000/extras/mk/mdis_cklist_v02.tm']}},\n",
       " 'success': True}"
      ]
     },
     "execution_count": 5,
     "metadata": {},
     "output_type": "execute_result"
    }
   ],
   "source": [
    "r = requests.get('http://localhost:5000/api/1.0/mercury/messenger/available_kernels')\n",
    "r.json()"
   ]
  },
  {
   "cell_type": "markdown",
   "metadata": {
    "deletable": true,
    "editable": true
   },
   "source": [
    "## Example generation of the ISD object\n",
    "\n",
    "Notice that every endpoint returns with a `success` key and a `data` key at the top level.  This helps the user know if the call was successful and that all of the response is within the `data` key."
   ]
  },
  {
   "cell_type": "code",
   "execution_count": 23,
   "metadata": {
    "collapsed": false,
    "deletable": true,
    "editable": true
   },
   "outputs": [
    {
     "data": {
      "text/plain": [
       "{'data': 'Describe this end point', 'success': True}"
      ]
     },
     "execution_count": 23,
     "metadata": {},
     "output_type": "execute_result"
    }
   ],
   "source": [
    "r = requests.get('http://localhost:5000/api/1.0/csm_isd')\n",
    "r.json()"
   ]
  },
  {
   "cell_type": "code",
   "execution_count": 22,
   "metadata": {
    "collapsed": false,
    "deletable": true,
    "editable": true,
    "scrolled": false
   },
   "outputs": [
    {
     "data": {
      "text/plain": [
       "{'data': {'isd': {'boresight': [0.0, 0.0, 1.0],\n",
       "   'ccd_center': [512.5, 512.5],\n",
       "   'ephemeris_time': 423895046.5997792,\n",
       "   'focal_length': 78.2367,\n",
       "   'focal_length_epsilon': 0.15,\n",
       "   'ifov': 179.6,\n",
       "   'instrument_id': 'MSGR_MDIS_WAC',\n",
       "   'itrans_line': [0.0, -0.0006761060916520159, 71.4399371332522],\n",
       "   'itrans_sample': [0.0, 71.42857143, 0.0],\n",
       "   'kappa': -2.9480471764203147,\n",
       "   'max_elevation': 100,\n",
       "   'min_elevation': -100,\n",
       "   'model_name': 'ISIS_MDISNAC_USGSAstro_1_Linux64_csm30.so',\n",
       "   'nlines': 1024,\n",
       "   'nsamples': 1024,\n",
       "   'odt_x': [0.0,\n",
       "    1.0,\n",
       "    0.0,\n",
       "    -7.720894252056575e-05,\n",
       "    3.599871902138938e-06,\n",
       "    0.0,\n",
       "    5.509035727272325e-06,\n",
       "    0.0,\n",
       "    5.509035727272406e-06,\n",
       "    0.0],\n",
       "   'odt_y': [0.0,\n",
       "    0.0,\n",
       "    1.000000000026148,\n",
       "    0.0,\n",
       "    -7.720894252092194e-05,\n",
       "    3.599871782473616e-06,\n",
       "    0.0,\n",
       "    5.509035621941527e-06,\n",
       "    0.0,\n",
       "    5.5090308738198125e-06],\n",
       "   'omega': 2.901663189203809,\n",
       "   'original_half_lines': 512.0,\n",
       "   'original_half_samples': 512.0,\n",
       "   'phi': -1.0677855685899038,\n",
       "   'pixel_pitch': 0.014,\n",
       "   'semi_major_axis': 2439.4,\n",
       "   'semi_minor_axis': 2439.4,\n",
       "   'spacecraft_name': 'MESSENGER',\n",
       "   'starting_detector_line': 1.0,\n",
       "   'starting_detector_sample': 9.0,\n",
       "   'target_name': 'MERCURY',\n",
       "   'transx': [0.0, 0.01399999999972, 0.0],\n",
       "   'transy': [0.0, 1.32495711261385e-07, 0.013997772676294],\n",
       "   'x_sensor_origin': -1262789.1407866343,\n",
       "   'x_sensor_velocity': 2231.03182974969,\n",
       "   'x_sun_position': -55740238968.15542,\n",
       "   'y_sensor_origin': 854898.0962738676,\n",
       "   'y_sensor_velocity': -2344.5966208144305,\n",
       "   'y_sun_position': 24261226407.59704,\n",
       "   'z_sensor_origin': 2576574.4997884277,\n",
       "   'z_sensor_velocity': 1179.7713300049884,\n",
       "   'z_sun_position': 9585268.720343476},\n",
       "  'loaded_kernels': None},\n",
       " 'success': True}"
      ]
     },
     "execution_count": 22,
     "metadata": {},
     "output_type": "execute_result"
    }
   ],
   "source": [
    "r = requests.post('http://localhost:5000/api/1.0/csm_isd', data=data)\n",
    "r.json()"
   ]
  },
  {
   "cell_type": "markdown",
   "metadata": {
    "deletable": true,
    "editable": true
   },
   "source": [
    "## Use the ISD"
   ]
  },
  {
   "cell_type": "code",
   "execution_count": 7,
   "metadata": {
    "collapsed": true,
    "deletable": true,
    "editable": true
   },
   "outputs": [],
   "source": [
    "import usgscam as cam\n",
    "from cycsm.isd import Isd"
   ]
  },
  {
   "cell_type": "code",
   "execution_count": 8,
   "metadata": {
    "collapsed": true,
    "deletable": true,
    "editable": true
   },
   "outputs": [],
   "source": [
    "isd = r.json()['data']['isd']"
   ]
  },
  {
   "cell_type": "code",
   "execution_count": 9,
   "metadata": {
    "collapsed": true,
    "deletable": true,
    "editable": true
   },
   "outputs": [],
   "source": [
    "i = Isd.loads(isd)"
   ]
  },
  {
   "cell_type": "code",
   "execution_count": 10,
   "metadata": {
    "collapsed": true,
    "deletable": true,
    "editable": true
   },
   "outputs": [],
   "source": [
    "plugin = cam.mdis.MdisPlugin()\n",
    "camera = plugin.from_isd(i, plugin.modelname(0))"
   ]
  },
  {
   "cell_type": "code",
   "execution_count": 11,
   "metadata": {
    "collapsed": false,
    "deletable": true,
    "editable": true
   },
   "outputs": [
    {
     "data": {
      "text/plain": [
       "(1024.0, 1024.0)"
      ]
     },
     "execution_count": 11,
     "metadata": {},
     "output_type": "execute_result"
    }
   ],
   "source": [
    "camera.imagesize"
   ]
  },
  {
   "cell_type": "code",
   "execution_count": 12,
   "metadata": {
    "collapsed": false,
    "deletable": true,
    "editable": true
   },
   "outputs": [
    {
     "data": {
      "text/plain": [
       "[-1108876.4666681145, -2124897.510113989, -453735.5101609463]"
      ]
     },
     "execution_count": 12,
     "metadata": {},
     "output_type": "execute_result"
    }
   ],
   "source": [
    "xyz = camera.imageToGround(512.5, 512.5, 0)\n",
    "xyz"
   ]
  },
  {
   "cell_type": "code",
   "execution_count": 13,
   "metadata": {
    "collapsed": false,
    "deletable": true,
    "editable": true
   },
   "outputs": [
    {
     "data": {
      "text/plain": [
       "[512.5000000000206, 512.5000000000109]"
      ]
     },
     "execution_count": 13,
     "metadata": {},
     "output_type": "execute_result"
    }
   ],
   "source": [
    "camera.groundToImage(*xyz)"
   ]
  },
  {
   "cell_type": "markdown",
   "metadata": {
    "deletable": true,
    "editable": true
   },
   "source": [
    "## Random Messenger Image\n",
    "\n",
    "The above could be perceived as being too canned.  Here, pull a random image from the PDS and instantiate a camera model."
   ]
  },
  {
   "cell_type": "code",
   "execution_count": 1,
   "metadata": {
    "collapsed": true,
    "deletable": true,
    "editable": true
   },
   "outputs": [],
   "source": [
    "from ftplib import FTP\n",
    "import os\n",
    "from random import choice"
   ]
  },
  {
   "cell_type": "code",
   "execution_count": 2,
   "metadata": {
    "collapsed": true,
    "deletable": true,
    "editable": true
   },
   "outputs": [],
   "source": [
    "# Run only once to avoid too many open FTP connections\n",
    "ftp = FTP('pdsimage2.wr.usgs.gov')\n",
    "ftp.login()\n",
    "dirs = ftp.nlst('archive/a15c-l-mc-2-scanned-images-v1.0/A15MC_0001/DATA')"
   ]
  },
  {
   "cell_type": "code",
   "execution_count": 22,
   "metadata": {
    "collapsed": false,
    "deletable": true,
    "editable": true
   },
   "outputs": [],
   "source": [
    "data_dir = choice(dirs)\n",
    "# Omit the tif - no need for image data\n",
    "flist = ftp.nlst(data_dir)\n",
    "flist = [i for i in flist if os.path.splitext(i)[1] == '.lbl']\n",
    "f = choice(flist)\n",
    "fname = os.path.basename(f)\n",
    "with open('/data/apollo_sample/{}'.format(fname), 'wb') as file:\n",
    "    ftp.retrbinary('RETR {}'.format(f), file.write)"
   ]
  },
  {
   "cell_type": "code",
   "execution_count": 23,
   "metadata": {
    "collapsed": false,
    "deletable": true,
    "editable": true
   },
   "outputs": [],
   "source": [
    "newfile = os.path.join('/data/apollo_sample/{}'.format(fname))\n",
    "# Fix the PDS label\n",
    "import fileinput\n",
    "for line in fileinput.input(newfile, inplace=True, backup='.bak'):\n",
    "    if 'HEADER_TYPE' in line and '=' in line:\n",
    "        print('HEADER_TYPE = \"N/A\"',)\n",
    "    else:\n",
    "        print(line.rstrip())"
   ]
  },
  {
   "cell_type": "code",
   "execution_count": 49,
   "metadata": {
    "collapsed": false,
    "deletable": true,
    "editable": true,
    "scrolled": false
   },
   "outputs": [
    {
     "name": "stdout",
     "output_type": "stream",
     "text": [
      "Processing a new image: /data/apollo_sample/AS15-M-1735.lbl\n",
      "{\"target_name\": \"MOON\", \"capture_date\": \"1971-08-02T08:45:57.251000\", \"instrument\": \"METRIC CAMERA\", \"spacecraft_id\": \"APOLLO 15 COMMAND AND SERVICE MODULE\", \"spacecraft_clock_count\": \"UNK\", \"lighttime_correction\": \"LT+S\", \"min_elevation\": -100, \"max_elevation\": 100}\n"
     ]
    },
    {
     "ename": "JSONDecodeError",
     "evalue": "Expecting value: line 1 column 1 (char 0)",
     "output_type": "error",
     "traceback": [
      "\u001b[0;31m---------------------------------------------------------------------------\u001b[0m",
      "\u001b[0;31mJSONDecodeError\u001b[0m                           Traceback (most recent call last)",
      "\u001b[0;32m<ipython-input-49-e63ec8a3fe45>\u001b[0m in \u001b[0;36m<module>\u001b[0;34m()\u001b[0m\n\u001b[1;32m     22\u001b[0m \u001b[0;34m\u001b[0m\u001b[0m\n\u001b[1;32m     23\u001b[0m \u001b[0;31m# Get the ISD back and instantiate a local ISD for the image\u001b[0m\u001b[0;34m\u001b[0m\u001b[0;34m\u001b[0m\u001b[0m\n\u001b[0;32m---> 24\u001b[0;31m \u001b[0misd\u001b[0m \u001b[0;34m=\u001b[0m \u001b[0mr\u001b[0m\u001b[0;34m.\u001b[0m\u001b[0mjson\u001b[0m\u001b[0;34m(\u001b[0m\u001b[0;34m)\u001b[0m\u001b[0;34m[\u001b[0m\u001b[0;34m'data'\u001b[0m\u001b[0;34m]\u001b[0m\u001b[0;34m[\u001b[0m\u001b[0;34m'isd'\u001b[0m\u001b[0;34m]\u001b[0m\u001b[0;34m\u001b[0m\u001b[0m\n\u001b[0m\u001b[1;32m     25\u001b[0m \u001b[0mi\u001b[0m \u001b[0;34m=\u001b[0m \u001b[0mIsd\u001b[0m\u001b[0;34m.\u001b[0m\u001b[0mloads\u001b[0m\u001b[0;34m(\u001b[0m\u001b[0misd\u001b[0m\u001b[0;34m)\u001b[0m\u001b[0;34m\u001b[0m\u001b[0m\n\u001b[1;32m     26\u001b[0m \u001b[0;34m\u001b[0m\u001b[0m\n",
      "\u001b[0;32m/opt/anaconda3/envs/camera/lib/python3.6/site-packages/requests/models.py\u001b[0m in \u001b[0;36mjson\u001b[0;34m(self, **kwargs)\u001b[0m\n\u001b[1;32m    883\u001b[0m                     \u001b[0;31m# used.\u001b[0m\u001b[0;34m\u001b[0m\u001b[0;34m\u001b[0m\u001b[0m\n\u001b[1;32m    884\u001b[0m                     \u001b[0;32mpass\u001b[0m\u001b[0;34m\u001b[0m\u001b[0m\n\u001b[0;32m--> 885\u001b[0;31m         \u001b[0;32mreturn\u001b[0m \u001b[0mcomplexjson\u001b[0m\u001b[0;34m.\u001b[0m\u001b[0mloads\u001b[0m\u001b[0;34m(\u001b[0m\u001b[0mself\u001b[0m\u001b[0;34m.\u001b[0m\u001b[0mtext\u001b[0m\u001b[0;34m,\u001b[0m \u001b[0;34m**\u001b[0m\u001b[0mkwargs\u001b[0m\u001b[0;34m)\u001b[0m\u001b[0;34m\u001b[0m\u001b[0m\n\u001b[0m\u001b[1;32m    886\u001b[0m \u001b[0;34m\u001b[0m\u001b[0m\n\u001b[1;32m    887\u001b[0m     \u001b[0;34m@\u001b[0m\u001b[0mproperty\u001b[0m\u001b[0;34m\u001b[0m\u001b[0m\n",
      "\u001b[0;32m/opt/anaconda3/envs/camera/lib/python3.6/json/__init__.py\u001b[0m in \u001b[0;36mloads\u001b[0;34m(s, encoding, cls, object_hook, parse_float, parse_int, parse_constant, object_pairs_hook, **kw)\u001b[0m\n\u001b[1;32m    352\u001b[0m             \u001b[0mparse_int\u001b[0m \u001b[0;32mis\u001b[0m \u001b[0;32mNone\u001b[0m \u001b[0;32mand\u001b[0m \u001b[0mparse_float\u001b[0m \u001b[0;32mis\u001b[0m \u001b[0;32mNone\u001b[0m \u001b[0;32mand\u001b[0m\u001b[0;34m\u001b[0m\u001b[0m\n\u001b[1;32m    353\u001b[0m             parse_constant is None and object_pairs_hook is None and not kw):\n\u001b[0;32m--> 354\u001b[0;31m         \u001b[0;32mreturn\u001b[0m \u001b[0m_default_decoder\u001b[0m\u001b[0;34m.\u001b[0m\u001b[0mdecode\u001b[0m\u001b[0;34m(\u001b[0m\u001b[0ms\u001b[0m\u001b[0;34m)\u001b[0m\u001b[0;34m\u001b[0m\u001b[0m\n\u001b[0m\u001b[1;32m    355\u001b[0m     \u001b[0;32mif\u001b[0m \u001b[0mcls\u001b[0m \u001b[0;32mis\u001b[0m \u001b[0;32mNone\u001b[0m\u001b[0;34m:\u001b[0m\u001b[0;34m\u001b[0m\u001b[0m\n\u001b[1;32m    356\u001b[0m         \u001b[0mcls\u001b[0m \u001b[0;34m=\u001b[0m \u001b[0mJSONDecoder\u001b[0m\u001b[0;34m\u001b[0m\u001b[0m\n",
      "\u001b[0;32m/opt/anaconda3/envs/camera/lib/python3.6/json/decoder.py\u001b[0m in \u001b[0;36mdecode\u001b[0;34m(self, s, _w)\u001b[0m\n\u001b[1;32m    337\u001b[0m \u001b[0;34m\u001b[0m\u001b[0m\n\u001b[1;32m    338\u001b[0m         \"\"\"\n\u001b[0;32m--> 339\u001b[0;31m         \u001b[0mobj\u001b[0m\u001b[0;34m,\u001b[0m \u001b[0mend\u001b[0m \u001b[0;34m=\u001b[0m \u001b[0mself\u001b[0m\u001b[0;34m.\u001b[0m\u001b[0mraw_decode\u001b[0m\u001b[0;34m(\u001b[0m\u001b[0ms\u001b[0m\u001b[0;34m,\u001b[0m \u001b[0midx\u001b[0m\u001b[0;34m=\u001b[0m\u001b[0m_w\u001b[0m\u001b[0;34m(\u001b[0m\u001b[0ms\u001b[0m\u001b[0;34m,\u001b[0m \u001b[0;36m0\u001b[0m\u001b[0;34m)\u001b[0m\u001b[0;34m.\u001b[0m\u001b[0mend\u001b[0m\u001b[0;34m(\u001b[0m\u001b[0;34m)\u001b[0m\u001b[0;34m)\u001b[0m\u001b[0;34m\u001b[0m\u001b[0m\n\u001b[0m\u001b[1;32m    340\u001b[0m         \u001b[0mend\u001b[0m \u001b[0;34m=\u001b[0m \u001b[0m_w\u001b[0m\u001b[0;34m(\u001b[0m\u001b[0ms\u001b[0m\u001b[0;34m,\u001b[0m \u001b[0mend\u001b[0m\u001b[0;34m)\u001b[0m\u001b[0;34m.\u001b[0m\u001b[0mend\u001b[0m\u001b[0;34m(\u001b[0m\u001b[0;34m)\u001b[0m\u001b[0;34m\u001b[0m\u001b[0m\n\u001b[1;32m    341\u001b[0m         \u001b[0;32mif\u001b[0m \u001b[0mend\u001b[0m \u001b[0;34m!=\u001b[0m \u001b[0mlen\u001b[0m\u001b[0;34m(\u001b[0m\u001b[0ms\u001b[0m\u001b[0;34m)\u001b[0m\u001b[0;34m:\u001b[0m\u001b[0;34m\u001b[0m\u001b[0m\n",
      "\u001b[0;32m/opt/anaconda3/envs/camera/lib/python3.6/json/decoder.py\u001b[0m in \u001b[0;36mraw_decode\u001b[0;34m(self, s, idx)\u001b[0m\n\u001b[1;32m    355\u001b[0m             \u001b[0mobj\u001b[0m\u001b[0;34m,\u001b[0m \u001b[0mend\u001b[0m \u001b[0;34m=\u001b[0m \u001b[0mself\u001b[0m\u001b[0;34m.\u001b[0m\u001b[0mscan_once\u001b[0m\u001b[0;34m(\u001b[0m\u001b[0ms\u001b[0m\u001b[0;34m,\u001b[0m \u001b[0midx\u001b[0m\u001b[0;34m)\u001b[0m\u001b[0;34m\u001b[0m\u001b[0m\n\u001b[1;32m    356\u001b[0m         \u001b[0;32mexcept\u001b[0m \u001b[0mStopIteration\u001b[0m \u001b[0;32mas\u001b[0m \u001b[0merr\u001b[0m\u001b[0;34m:\u001b[0m\u001b[0;34m\u001b[0m\u001b[0m\n\u001b[0;32m--> 357\u001b[0;31m             \u001b[0;32mraise\u001b[0m \u001b[0mJSONDecodeError\u001b[0m\u001b[0;34m(\u001b[0m\u001b[0;34m\"Expecting value\"\u001b[0m\u001b[0;34m,\u001b[0m \u001b[0ms\u001b[0m\u001b[0;34m,\u001b[0m \u001b[0merr\u001b[0m\u001b[0;34m.\u001b[0m\u001b[0mvalue\u001b[0m\u001b[0;34m)\u001b[0m \u001b[0;32mfrom\u001b[0m \u001b[0;32mNone\u001b[0m\u001b[0;34m\u001b[0m\u001b[0m\n\u001b[0m\u001b[1;32m    358\u001b[0m         \u001b[0;32mreturn\u001b[0m \u001b[0mobj\u001b[0m\u001b[0;34m,\u001b[0m \u001b[0mend\u001b[0m\u001b[0;34m\u001b[0m\u001b[0m\n",
      "\u001b[0;31mJSONDecodeError\u001b[0m: Expecting value: line 1 column 1 (char 0)"
     ]
    }
   ],
   "source": [
    "# Simple helper function to use the API\n",
    "def create_data_pacakge(in_file):\n",
    "    label = pvl.load(in_file)\n",
    "    data = {'target_name': label['TARGET_NAME'],\n",
    "            'capture_date': label['START_TIME'].isoformat(),\n",
    "            'instrument': label['INSTRUMENT_NAME'], \n",
    "            'spacecraft_id' : label['INSTRUMENT_HOST_NAME'],\n",
    "            'spacecraft_clock_count': label['SPACECRAFT_CLOCK_START_COUNT'],\n",
    "            'lighttime_correction':'LT+S', \n",
    "            'min_elevation': -100,\n",
    "            'max_elevation': 100\n",
    "            }\n",
    "    return json.dumps(data)\n",
    "\n",
    "print('Processing a new image: {}'.format(newfile))\n",
    "\n",
    "# Call the func to create the data package for submission to the micro-service\n",
    "data = create_data_pacakge(newfile)\n",
    "print(data)\n",
    "# Call the micro-service\n",
    "r = requests.post('http://localhost:5000/api/1.0/csm_isd', data=data)\n",
    "\n",
    "# Get the ISD back and instantiate a local ISD for the image\n",
    "isd = r.json()['data']['isd']\n",
    "i = Isd.loads(isd)\n",
    "\n",
    "# Create the plugin and camera as usual\n",
    "plugin = cam.mdis.MdisPlugin()\n",
    "camera = plugin.from_isd(i, plugin.modelname(0))\n",
    "\n",
    "# Call I2G\n",
    "xyz = camera.imageToGround(512.5, 512.5, 0)\n",
    "print(xyz)\n",
    "\n",
    "# Call G2I\n",
    "camera.groundToImage(*xyz)"
   ]
  },
  {
   "cell_type": "code",
   "execution_count": null,
   "metadata": {
    "collapsed": true,
    "deletable": true,
    "editable": true
   },
   "outputs": [],
   "source": []
  }
 ],
 "metadata": {
  "kernelspec": {
   "display_name": "SensorModels",
   "language": "python",
   "name": "camera"
  },
  "language_info": {
   "codemirror_mode": {
    "name": "ipython",
    "version": 3
   },
   "file_extension": ".py",
   "mimetype": "text/x-python",
   "name": "python",
   "nbconvert_exporter": "python",
   "pygments_lexer": "ipython3",
   "version": "3.6.1"
  }
 },
 "nbformat": 4,
 "nbformat_minor": 2
}
